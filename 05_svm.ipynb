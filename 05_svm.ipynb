{
 "cells": [
  {
   "cell_type": "markdown",
   "metadata": {},
   "source": [
    "# SVM\n",
    "5月2日（土）"
   ]
  },
  {
   "cell_type": "markdown",
   "metadata": {},
   "source": [
    "## データセット"
   ]
  },
  {
   "cell_type": "code",
   "execution_count": 26,
   "metadata": {},
   "outputs": [
    {
     "data": {
      "image/png": "[encoded data removed]",
      "text/plain": [
       "<Figure size 432x288 with 1 Axes>"
      ]
     },
     "metadata": {
      "needs_background": "light"
     },
     "output_type": "display_data"
    }
   ],
   "source": [
    "from utility import *\n",
    "\n",
    "mydata = MyData(data_type='clf')\n",
    "mydata.plot_data()"
   ]
  },
  {
   "cell_type": "code",
   "execution_count": 112,
   "metadata": {},
   "outputs": [],
   "source": [
    "X, y = mydata.get_dataset()\n",
    "# SVMなのでラベルを-1と1に変換する\n",
    "y = np.where(y==0, -1, y)"
   ]
  },
  {
   "cell_type": "markdown",
   "metadata": {},
   "source": [
    "# sklearnの線形svm"
   ]
  },
  {
   "cell_type": "code",
   "execution_count": 28,
   "metadata": {},
   "outputs": [
    {
     "data": {
      "text/plain": [
       "SVC(C=1.0, break_ties=False, cache_size=200, class_weight=None, coef0=0.0,\n",
       "    decision_function_shape='ovr', degree=3, gamma='scale', kernel='linear',\n",
       "    max_iter=-1, probability=False, random_state=42, shrinking=True, tol=0.001,\n",
       "    verbose=False)"
      ]
     },
     "execution_count": 28,
     "metadata": {},
     "output_type": "execute_result"
    }
   ],
   "source": [
    "from sklearn.svm import SVC\n",
    "\n",
    "clf = SVC(random_state=42, kernel='linear')\n",
    "clf.fit(X, y)"
   ]
  },
  {
   "cell_type": "code",
   "execution_count": 29,
   "metadata": {},
   "outputs": [
    {
     "name": "stdout",
     "output_type": "stream",
     "text": [
      "coef:[ 2.22720466 -2.24959915] intercept:[-4.9417852]\n"
     ]
    }
   ],
   "source": [
    "coef = (clf.dual_coef_ @ clf.support_vectors_)[0]\n",
    "intercept = clf.intercept_\n",
    "print(f'coef:{coef} intercept:{intercept}')"
   ]
  },
  {
   "cell_type": "code",
   "execution_count": 30,
   "metadata": {},
   "outputs": [
    {
     "data": {
      "text/plain": [
       "array([[4.9, 3. ],\n",
       "       [5.7, 3.8],\n",
       "       [5.4, 3.4],\n",
       "       [5. , 3. ],\n",
       "       [5.4, 3.4],\n",
       "       [5.5, 3.5],\n",
       "       [4.5, 2.3],\n",
       "       [4.8, 3. ],\n",
       "       [4.9, 2.4],\n",
       "       [5.2, 2.7],\n",
       "       [5.6, 3. ],\n",
       "       [5.9, 3.2],\n",
       "       [5.4, 3. ],\n",
       "       [6. , 3.4],\n",
       "       [5.6, 3. ],\n",
       "       [5.1, 2.5]])"
      ]
     },
     "execution_count": 30,
     "metadata": {},
     "output_type": "execute_result"
    }
   ],
   "source": [
    "clf.support_vectors_"
   ]
  },
  {
   "cell_type": "code",
   "execution_count": 31,
   "metadata": {},
   "outputs": [
    {
     "data": {
      "image/png": "[encoded data removed]",
      "text/plain": [
       "<Figure size 432x288 with 1 Axes>"
      ]
     },
     "metadata": {
      "needs_background": "light"
     },
     "output_type": "display_data"
    }
   ],
   "source": [
    "mydata.plot_boundary(coef, intercept)"
   ]
  },
  {
   "cell_type": "markdown",
   "metadata": {},
   "source": [
    "# 自力で実装"
   ]
  },
  {
   "cell_type": "markdown",
   "metadata": {},
   "source": [
    "$$\n",
    "L(\\boldsymbol{\\alpha}) = \\boldsymbol{\\alpha}^T \\boldsymbol{1} - \\frac{1}{2} \\boldsymbol{\\alpha}^T \\boldsymbol{H} \\boldsymbol{\\alpha} - \\frac{1}{2} \\beta \\boldsymbol{\\alpha}^T \\boldsymbol{t} \\boldsymbol{t}^T \\boldsymbol{\\alpha}\\\\\n",
    "\\\\\n",
    "\\frac{\\partial L}{\\partial \\boldsymbol{\\alpha}} = \\boldsymbol{1} - H \\boldsymbol{\\alpha} - \\beta \\boldsymbol{t} \\boldsymbol{t}^T \\boldsymbol{\\alpha}\\\\\n",
    "\\\\\n",
    "\\frac{\\partial L}{\\partial {\\beta}} = -\\frac{1}{2} \\boldsymbol{\\alpha}^T \\boldsymbol{t} \\boldsymbol{t}^T \\boldsymbol{\\alpha}\n",
    "$$"
   ]
  },
  {
   "cell_type": "code",
   "execution_count": 113,
   "metadata": {},
   "outputs": [],
   "source": [
    "class MyLinearSVM():\n",
    "    def __init__(self, max_iter=1000):\n",
    "        self.max_iter = max_iter\n",
    "        \n",
    "    def fit(self, X, y):\n",
    "        sample_size = len(X)\n",
    "        alpha = np.zeros(sample_size)\n",
    "        beta = 1.0\n",
    "        eta_al = 0.0001\n",
    "        eta_be = 0.1\n",
    "        tt = np.c_[y] @ np.c_[y].T\n",
    "        H = (tt * (X @ X.T))\n",
    "        \n",
    "        for itr in range(self.max_iter):\n",
    "            tmp_alpha = np.copy(alpha)\n",
    "            delta = np.ones(sample_size) - H @ alpha - beta * tt @ alpha\n",
    "            alpha += eta_al * delta\n",
    "            beta += 0.5 * eta_be * (tmp_alpha.T @ y) ** 2\n",
    "\n",
    "        index = alpha > 0\n",
    "        self.coef_ = (alpha * y).T @ X\n",
    "        self.intercept_ = (y[index] - X[index] @ self.coef_).mean()\n",
    "    \n",
    "    def predict(self, X):\n",
    "        tmp = (X @ self.coef_ +self.intercept_ > 0)\n",
    "        ans = np.where(tmp==0, -1, tmp)\n",
    "        return ans\n",
    "    \n",
    "    def score(self, X, y):\n",
    "        y_pred = self.predict(X)\n",
    "        ans = (y == y_pred).sum() / len(y)\n",
    "        return ans"
   ]
  },
  {
   "cell_type": "code",
   "execution_count": 115,
   "metadata": {},
   "outputs": [
    {
     "data": {
      "text/plain": [
       "0.99"
      ]
     },
     "execution_count": 115,
     "metadata": {},
     "output_type": "execute_result"
    }
   ],
   "source": [
    "mclf = MyLinearSVM()\n",
    "mclf.fit(X, y)\n",
    "mclf.score(X, y)"
   ]
  },
  {
   "cell_type": "code",
   "execution_count": 110,
   "metadata": {},
   "outputs": [
    {
     "data": {
      "image/png": "[encoded data removed]",
      "text/plain": [
       "<Figure size 432x288 with 1 Axes>"
      ]
     },
     "metadata": {
      "needs_background": "light"
     },
     "output_type": "display_data"
    }
   ],
   "source": [
    "mydata.plot_boundary(mclf.coef_, mclf.intercept_)"
   ]
  }
 ],
 "metadata": {
  "kernelspec": {
   "display_name": "Python 3",
   "language": "python",
   "name": "python3"
  },
  "language_info": {
   "codemirror_mode": {
    "name": "ipython",
    "version": 3
   },
   "file_extension": ".py",
   "mimetype": "text/x-python",
   "name": "python",
   "nbconvert_exporter": "python",
   "pygments_lexer": "ipython3",
   "version": "3.7.3"
  }
 },
 "nbformat": 4,
 "nbformat_minor": 2
}

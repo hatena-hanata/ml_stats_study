{
 "cells": [
  {
   "cell_type": "markdown",
   "metadata": {},
   "source": [
    "# 第2回　ロジスティック回帰\n",
    "5月9日　石村"
   ]
  },
  {
   "cell_type": "markdown",
   "metadata": {},
   "source": [
    "## データセット\n",
    "irisデータ"
   ]
  },
  {
   "cell_type": "code",
   "execution_count": 2,
   "metadata": {},
   "outputs": [
    {
     "data": {
      "image/png": "[encoded data removed]",
      "text/plain": [
       "<Figure size 432x288 with 1 Axes>"
      ]
     },
     "metadata": {
      "needs_background": "light"
     },
     "output_type": "display_data"
    }
   ],
   "source": [
    "from utility import *\n",
    "\n",
    "mydata = MyData(data_type='clf')\n",
    "mydata.plot_data()"
   ]
  },
  {
   "cell_type": "code",
   "execution_count": 3,
   "metadata": {},
   "outputs": [],
   "source": [
    "X, y = mydata.get_dataset()"
   ]
  },
  {
   "cell_type": "markdown",
   "metadata": {},
   "source": [
    "# scikit-learnのロジスティック回帰"
   ]
  },
  {
   "cell_type": "code",
   "execution_count": 4,
   "metadata": {},
   "outputs": [
    {
     "data": {
      "text/plain": [
       "LogisticRegression(C=1, class_weight=None, dual=False, fit_intercept=True,\n",
       "                   intercept_scaling=1, l1_ratio=None, max_iter=100,\n",
       "                   multi_class='auto', n_jobs=None, penalty='l2',\n",
       "                   random_state=9, solver='lbfgs', tol=0.0001, verbose=0,\n",
       "                   warm_start=False)"
      ]
     },
     "execution_count": 4,
     "metadata": {},
     "output_type": "execute_result"
    }
   ],
   "source": [
    "from sklearn.linear_model import LogisticRegression\n",
    "\n",
    "lr = LogisticRegression(random_state=9, penalty='l2', solver='lbfgs', C=1)\n",
    "lr.fit(X, y)"
   ]
  },
  {
   "cell_type": "code",
   "execution_count": 5,
   "metadata": {},
   "outputs": [
    {
     "data": {
      "text/plain": [
       "array([[ 3.0786959, -3.0220097]])"
      ]
     },
     "execution_count": 5,
     "metadata": {},
     "output_type": "execute_result"
    }
   ],
   "source": [
    "lr.coef_"
   ]
  },
  {
   "cell_type": "code",
   "execution_count": 6,
   "metadata": {},
   "outputs": [
    {
     "data": {
      "text/plain": [
       "array([-7.30634549])"
      ]
     },
     "execution_count": 6,
     "metadata": {},
     "output_type": "execute_result"
    }
   ],
   "source": [
    "lr.intercept_"
   ]
  },
  {
   "cell_type": "code",
   "execution_count": 7,
   "metadata": {},
   "outputs": [
    {
     "data": {
      "image/png": "[encoded data removed]",
      "text/plain": [
       "<Figure size 432x288 with 1 Axes>"
      ]
     },
     "metadata": {
      "needs_background": "light"
     },
     "output_type": "display_data"
    }
   ],
   "source": [
    "mydata.plot_boundary(lr.coef_[0], lr.intercept_)"
   ]
  },
  {
   "cell_type": "markdown",
   "metadata": {},
   "source": [
    "# statsmodelのロジスティック回帰"
   ]
  },
  {
   "cell_type": "code",
   "execution_count": 8,
   "metadata": {},
   "outputs": [],
   "source": [
    "import statsmodels.api as sm\n",
    "\n",
    "s_lr = sm.Logit(y, sm.add_constant(X))\n",
    "res = s_lr.fit(method='lbfgs')"
   ]
  },
  {
   "cell_type": "code",
   "execution_count": 9,
   "metadata": {},
   "outputs": [
    {
     "name": "stdout",
     "output_type": "stream",
     "text": [
      "                           Logit Regression Results                           \n",
      "==============================================================================\n",
      "Dep. Variable:                      y   No. Observations:                  100\n",
      "Model:                          Logit   Df Residuals:                       97\n",
      "Method:                           MLE   Df Model:                            2\n",
      "Date:                Sat, 09 May 2020   Pseudo R-squ.:                   1.000\n",
      "Time:                        19:47:33   Log-Likelihood:             -0.0032555\n",
      "converged:                       True   LL-Null:                       -69.315\n",
      "                                        LLR p-value:                 7.914e-31\n",
      "==============================================================================\n",
      "                 coef    std err          z      P>|z|      [0.025      0.975]\n",
      "------------------------------------------------------------------------------\n",
      "const       -289.3136   1.29e+07  -2.24e-05      1.000   -2.53e+07    2.53e+07\n",
      "x1           156.0520   8.38e+06   1.86e-05      1.000   -1.64e+07    1.64e+07\n",
      "x2          -182.2851   1.08e+07  -1.69e-05      1.000   -2.11e+07    2.11e+07\n",
      "==============================================================================\n",
      "\n",
      "Possibly complete quasi-separation: A fraction 0.98 of observations can be\n",
      "perfectly predicted. This might indicate that there is complete\n",
      "quasi-separation. In this case some parameters will not be identified.\n"
     ]
    }
   ],
   "source": [
    "print(res.summary())"
   ]
  },
  {
   "cell_type": "markdown",
   "metadata": {},
   "source": [
    "## 係数の区間推定を行う"
   ]
  },
  {
   "cell_type": "code",
   "execution_count": 10,
   "metadata": {},
   "outputs": [],
   "source": [
    "X_ = sm.add_constant(X)\n",
    "y_pred = res.predict(sm.add_constant(X))"
   ]
  },
  {
   "cell_type": "markdown",
   "metadata": {},
   "source": [
    "### フィッシャーの情報行列を求める"
   ]
  },
  {
   "cell_type": "code",
   "execution_count": 11,
   "metadata": {},
   "outputs": [
    {
     "data": {
      "text/plain": [
       "array([[0.00324752, 0.0159469 , 0.00850612],\n",
       "       [0.0159469 , 0.07895956, 0.04227671],\n",
       "       [0.00850612, 0.04227671, 0.02267455]])"
      ]
     },
     "execution_count": 11,
     "metadata": {},
     "output_type": "execute_result"
    }
   ],
   "source": [
    "I = X_.T @ np.diag((y_pred) * (1-y_pred)) @ X_\n",
    "I"
   ]
  },
  {
   "cell_type": "markdown",
   "metadata": {},
   "source": [
    "### 標準誤差"
   ]
  },
  {
   "cell_type": "code",
   "execution_count": 12,
   "metadata": {},
   "outputs": [
    {
     "data": {
      "text/plain": [
       "array([12919871.82459653,  8373991.00038964, 10766559.85991333])"
      ]
     },
     "execution_count": 12,
     "metadata": {},
     "output_type": "execute_result"
    }
   ],
   "source": [
    "std_errors = np.sqrt(np.diag(np.linalg.inv(I)))\n",
    "std_errors"
   ]
  },
  {
   "cell_type": "markdown",
   "metadata": {},
   "source": [
    "### z値とp値と信頼区間"
   ]
  },
  {
   "cell_type": "code",
   "execution_count": 13,
   "metadata": {},
   "outputs": [
    {
     "data": {
      "text/plain": [
       "array([-2.23929193e-05,  1.86353201e-05, -1.69306700e-05])"
      ]
     },
     "execution_count": 13,
     "metadata": {},
     "output_type": "execute_result"
    }
   ],
   "source": [
    "z_values = res.params / std_errors\n",
    "z_values"
   ]
  },
  {
   "cell_type": "code",
   "execution_count": 15,
   "metadata": {},
   "outputs": [
    {
     "data": {
      "text/plain": [
       "array([0.99998213, 0.99998513, 0.99998649])"
      ]
     },
     "execution_count": 15,
     "metadata": {},
     "output_type": "execute_result"
    }
   ],
   "source": [
    "from scipy.stats import norm\n",
    "\n",
    "p_values = np.array([])\n",
    "for z_value in z_values:\n",
    "    if z_value >= 0:\n",
    "        p_value = (1 - norm.cdf(z_value, loc=0, scale=1)) * 2\n",
    "    else:\n",
    "        p_value = norm.cdf(z_value, loc=0, scale=1) * 2\n",
    "    p_values = np.hstack((p_values, p_value))\n",
    "p_values"
   ]
  },
  {
   "cell_type": "code",
   "execution_count": 16,
   "metadata": {},
   "outputs": [
    {
     "data": {
      "text/plain": [
       "array([[-25322772.77472987,  25322194.14743612],\n",
       "       [-16412564.71562383,  16412876.81962864],\n",
       "       [-21102251.8478971 ,  21101887.27775237]])"
      ]
     },
     "execution_count": 16,
     "metadata": {},
     "output_type": "execute_result"
    }
   ],
   "source": [
    "# 信頼区間を求める\n",
    "confidence_intervals = []\n",
    "for s_i, w_i in zip(std_errors, res.params):\n",
    "    left = s_i * norm.ppf(0.025, loc=0, scale=1) + w_i\n",
    "    right = s_i * norm.ppf(0.975, loc=0, scale=1) + w_i\n",
    "    confidence_intervals.append(np.array([left, right]))\n",
    "confidence_intervals = np.array(confidence_intervals)\n",
    "confidence_intervals"
   ]
  },
  {
   "cell_type": "markdown",
   "metadata": {},
   "source": [
    "結果がおおよそ一致している！"
   ]
  },
  {
   "cell_type": "markdown",
   "metadata": {},
   "source": [
    "# 自力で実装"
   ]
  },
  {
   "cell_type": "code",
   "execution_count": 17,
   "metadata": {},
   "outputs": [],
   "source": [
    "import numpy as np\n",
    "from scipy.stats import norm\n",
    "from IPython.core.display import display\n",
    "import pandas as pd\n",
    "pd.options.display.float_format = '{:.4f}'.format\n",
    "\n",
    "\n",
    "def sigmoid(x):\n",
    "    return 1.0 / (1.0 + np.exp(-x))\n",
    "\n",
    "\n",
    "class MyLogisticRegression():\n",
    "    def __init__(self, fit_intercept=True, random_state=42, C=1.0):\n",
    "        self.fit_intercept = fit_intercept\n",
    "        self.random_state = random_state\n",
    "        self.C = C\n",
    "        return\n",
    "    \n",
    "    def __add_constant(self, X):\n",
    "        return np.hstack((X, np.ones((len(X), 1))))\n",
    "    \n",
    "    def __calc_loss(self, y_true, y_pred):\n",
    "        eps = 1e-15\n",
    "        loss = -(-y_true * np.log(y_pred - eps) + (1 - y_true) * np.log(1 - y_pred + eps)).mean()\n",
    "        return loss\n",
    "    \n",
    "    def __update_params(self, w, X, proba, y, lr):\n",
    "        gradient = (X.T @ (proba - y))\n",
    "        if self.C is None:\n",
    "            w = w - lr / len(X) * gradient\n",
    "        else:\n",
    "            w = w - lr / len(X) * gradient - lr / self.C / len(X) * w\n",
    "        return w\n",
    "    \n",
    "    def fit(self, X, y):\n",
    "        if self.fit_intercept:\n",
    "            X = self.__add_constant(X)\n",
    "        \n",
    "        # wの初期化\n",
    "        np.random.seed(seed=self.random_state)\n",
    "        self.w = np.random.rand(X.shape[1])\n",
    "        \n",
    "        # 設定\n",
    "        lr = 1\n",
    "        max_itr = 1000\n",
    "        # 最急勾配法で更新\n",
    "        for itr in range(max_itr):\n",
    "            y_proba = self.predict_proba(X)\n",
    "            log_loss = self.__calc_loss(y, y_proba)\n",
    "            self.w = self.__update_params(self.w, X, y_proba, y, lr)\n",
    "        self.coef_ = self.w[:-1]\n",
    "        self.intercept_ = self.w[-1]\n",
    "        \n",
    "        # 区間推定を行う\n",
    "        self.__calc_summary(X, y_proba)\n",
    "        return\n",
    "    \n",
    "    def __calc_summary(self, X, y_proba):\n",
    "        # フィッシャーの情報行列を求める\n",
    "        I = X.T @ np.diag((y_proba) * (1-y_proba)) @ X\n",
    "        \n",
    "        # 標準誤差を求める\n",
    "        std_errors = np.sqrt(np.diag(np.linalg.inv(I)))\n",
    "        \n",
    "        # z値を求める\n",
    "        z_values = self.w / std_errors\n",
    "        \n",
    "        # p値を求める\n",
    "        p_values = np.array([])\n",
    "        for z_value in z_values:\n",
    "            if z_value >= 0:\n",
    "                p_value = (1 - norm.cdf(z_value, loc=0, scale=1)) * 2\n",
    "            else:\n",
    "                p_value = norm.cdf(z_value, loc=0, scale=1) * 2\n",
    "            p_values = np.hstack((p_values, p_value))\n",
    "        \n",
    "        # 信頼区間を求める\n",
    "        confidence_intervals = []\n",
    "        for s_i, w_i in zip(std_errors, self.w):\n",
    "            left = s_i * norm.ppf(0.025, loc=0, scale=1) + w_i\n",
    "            right = s_i * norm.ppf(0.975, loc=0, scale=1) + w_i\n",
    "            confidence_intervals.append(np.array([left, right]))\n",
    "        confidence_intervals = np.array(confidence_intervals)\n",
    "        \n",
    "        # 説明変数の個数\n",
    "        k = X.shape[1]\n",
    "        \n",
    "        if self.fit_intercept:\n",
    "            names = [f'x_{i}' for i in range(1, k)]\n",
    "            names.append('const')\n",
    "        else:\n",
    "            names = [f'x_{i}' for i in range(1, k+1)]\n",
    "        \n",
    "        summary_dict = {\n",
    "            'name': names\n",
    "            , 'coef': self.w\n",
    "            , 'std err': std_errors\n",
    "            , 'z': z_values\n",
    "            , 'P>|z|': p_values\n",
    "            , '[0.025': confidence_intervals[:, 0]\n",
    "            , '0.975]': confidence_intervals[:, 1]\n",
    "        }\n",
    "        self.df_summary = pd.DataFrame.from_dict(summary_dict, orient='index').T\n",
    "        return\n",
    "        \n",
    "    def summary(self):\n",
    "        display(self.df_summary)\n",
    "        return\n",
    "        \n",
    "    def predict_proba(self, X):\n",
    "        if self.fit_intercept and X.shape[1] != len(self.w):\n",
    "            X = self.__add_constant(X)\n",
    "        return sigmoid(X @ self.w)\n",
    "    \n",
    "    def predict(self, X):\n",
    "        y_proba = self.predict_proba(X)\n",
    "        y_pred = (y_proba > 0.5).astype('int')\n",
    "        return y_pred\n",
    "\n",
    "    def score(self, X, y):\n",
    "        y_pred = self.predict(X)\n",
    "        return (y_pred == y).sum() / len(y)"
   ]
  },
  {
   "cell_type": "code",
   "execution_count": 18,
   "metadata": {},
   "outputs": [
    {
     "data": {
      "text/html": [
       "<div>\n",
       "<style scoped>\n",
       "    .dataframe tbody tr th:only-of-type {\n",
       "        vertical-align: middle;\n",
       "    }\n",
       "\n",
       "    .dataframe tbody tr th {\n",
       "        vertical-align: top;\n",
       "    }\n",
       "\n",
       "    .dataframe thead th {\n",
       "        text-align: right;\n",
       "    }\n",
       "</style>\n",
       "<table border=\"1\" class=\"dataframe\">\n",
       "  <thead>\n",
       "    <tr style=\"text-align: right;\">\n",
       "      <th></th>\n",
       "      <th>name</th>\n",
       "      <th>coef</th>\n",
       "      <th>std err</th>\n",
       "      <th>z</th>\n",
       "      <th>P&gt;|z|</th>\n",
       "      <th>[0.025</th>\n",
       "      <th>0.975]</th>\n",
       "    </tr>\n",
       "  </thead>\n",
       "  <tbody>\n",
       "    <tr>\n",
       "      <th>0</th>\n",
       "      <td>x_1</td>\n",
       "      <td>6.7662</td>\n",
       "      <td>2.1558</td>\n",
       "      <td>3.1385</td>\n",
       "      <td>0.0017</td>\n",
       "      <td>2.5408</td>\n",
       "      <td>10.9915</td>\n",
       "    </tr>\n",
       "    <tr>\n",
       "      <th>1</th>\n",
       "      <td>x_2</td>\n",
       "      <td>-10.9278</td>\n",
       "      <td>3.6158</td>\n",
       "      <td>-3.0222</td>\n",
       "      <td>0.0025</td>\n",
       "      <td>-18.0147</td>\n",
       "      <td>-3.8409</td>\n",
       "    </tr>\n",
       "    <tr>\n",
       "      <th>2</th>\n",
       "      <td>const</td>\n",
       "      <td>-2.8543</td>\n",
       "      <td>10.2902</td>\n",
       "      <td>-0.2774</td>\n",
       "      <td>0.7815</td>\n",
       "      <td>-23.0227</td>\n",
       "      <td>17.3141</td>\n",
       "    </tr>\n",
       "  </tbody>\n",
       "</table>\n",
       "</div>"
      ],
      "text/plain": [
       "    name     coef std err       z  P>|z|   [0.025  0.975]\n",
       "0    x_1   6.7662  2.1558  3.1385 0.0017   2.5408 10.9915\n",
       "1    x_2 -10.9278  3.6158 -3.0222 0.0025 -18.0147 -3.8409\n",
       "2  const  -2.8543 10.2902 -0.2774 0.7815 -23.0227 17.3141"
      ]
     },
     "metadata": {},
     "output_type": "display_data"
    }
   ],
   "source": [
    "mlr = MyLogisticRegression(fit_intercept=True, C=None)\n",
    "mlr.fit(X, y)\n",
    "mlr.score(X, y)\n",
    "mlr.summary()"
   ]
  },
  {
   "cell_type": "code",
   "execution_count": 19,
   "metadata": {},
   "outputs": [
    {
     "data": {
      "text/plain": [
       "array([  6.76615168, -10.92780862,  -2.8543029 ])"
      ]
     },
     "execution_count": 19,
     "metadata": {},
     "output_type": "execute_result"
    }
   ],
   "source": [
    "mlr.w"
   ]
  },
  {
   "cell_type": "code",
   "execution_count": 20,
   "metadata": {},
   "outputs": [
    {
     "data": {
      "image/png": "[encoded data removed]",
      "text/plain": [
       "<Figure size 432x288 with 1 Axes>"
      ]
     },
     "metadata": {
      "needs_background": "light"
     },
     "output_type": "display_data"
    }
   ],
   "source": [
    "mydata.plot_boundary(mlr.w[:2], mlr.w[2])"
   ]
  }
 ],
 "metadata": {
  "kernelspec": {
   "display_name": "Python 3",
   "language": "python",
   "name": "python3"
  },
  "language_info": {
   "codemirror_mode": {
    "name": "ipython",
    "version": 3
   },
   "file_extension": ".py",
   "mimetype": "text/x-python",
   "name": "python",
   "nbconvert_exporter": "python",
   "pygments_lexer": "ipython3",
   "version": "3.7.3"
  }
 },
 "nbformat": 4,
 "nbformat_minor": 2
}

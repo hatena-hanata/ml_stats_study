{
 "cells": [
  {
   "cell_type": "markdown",
   "metadata": {},
   "source": [
    "# 第2回　ロジスティック回帰\n",
    "3月17日　石村"
   ]
  },
  {
   "cell_type": "markdown",
   "metadata": {},
   "source": [
    "## データセット\n",
    "irisデータ"
   ]
  },
  {
   "cell_type": "code",
   "execution_count": 2,
   "metadata": {},
   "outputs": [
    {
     "data": {
      "image/png": "[encoded data removed]",
      "text/plain": [
       "<Figure size 432x288 with 1 Axes>"
      ]
     },
     "metadata": {
      "needs_background": "light"
     },
     "output_type": "display_data"
    }
   ],
   "source": [
    "from utility import *\n",
    "\n",
    "mydata = MyData(data_type='clf')\n",
    "mydata.plot_data()"
   ]
  },
  {
   "cell_type": "code",
   "execution_count": 3,
   "metadata": {},
   "outputs": [],
   "source": [
    "X, y = mydata.get_dataset()"
   ]
  },
  {
   "cell_type": "markdown",
   "metadata": {},
   "source": [
    "# scikit-learnのロジスティック回帰"
   ]
  },
  {
   "cell_type": "code",
   "execution_count": 4,
   "metadata": {},
   "outputs": [
    {
     "data": {
      "text/plain": [
       "LogisticRegression(C=1.0, class_weight=None, dual=False, fit_intercept=True,\n",
       "                   intercept_scaling=1, l1_ratio=None, max_iter=100,\n",
       "                   multi_class='auto', n_jobs=None, penalty='l2',\n",
       "                   random_state=9, solver='lbfgs', tol=0.0001, verbose=0,\n",
       "                   warm_start=False)"
      ]
     },
     "execution_count": 4,
     "metadata": {},
     "output_type": "execute_result"
    }
   ],
   "source": [
    "from sklearn.linear_model import LogisticRegression\n",
    "\n",
    "lr = LogisticRegression(random_state=9)\n",
    "lr.fit(X, y)"
   ]
  },
  {
   "cell_type": "code",
   "execution_count": 5,
   "metadata": {},
   "outputs": [
    {
     "data": {
      "text/plain": [
       "array([[ 3.0786959, -3.0220097]])"
      ]
     },
     "execution_count": 5,
     "metadata": {},
     "output_type": "execute_result"
    }
   ],
   "source": [
    "lr.coef_"
   ]
  },
  {
   "cell_type": "code",
   "execution_count": 6,
   "metadata": {},
   "outputs": [
    {
     "data": {
      "text/plain": [
       "array([-7.30634549])"
      ]
     },
     "execution_count": 6,
     "metadata": {},
     "output_type": "execute_result"
    }
   ],
   "source": [
    "lr.intercept_"
   ]
  },
  {
   "cell_type": "code",
   "execution_count": 8,
   "metadata": {},
   "outputs": [
    {
     "data": {
      "image/png": "[encoded data removed]",
      "text/plain": [
       "<Figure size 432x288 with 1 Axes>"
      ]
     },
     "metadata": {
      "needs_background": "light"
     },
     "output_type": "display_data"
    }
   ],
   "source": [
    "mydata.plot_boundary(lr.coef_[0], lr.intercept_)"
   ]
  },
  {
   "cell_type": "markdown",
   "metadata": {},
   "source": [
    "# 自力で実装"
   ]
  },
  {
   "cell_type": "code",
   "execution_count": 12,
   "metadata": {},
   "outputs": [],
   "source": [
    "import numpy as np\n",
    "\n",
    "def sigmoid(x):\n",
    "    return 1.0 / (1.0 + np.exp(-x))\n",
    "\n",
    "def calc_loss(y_true, y_pred):\n",
    "    eps = 1e-15\n",
    "    loss = -(-y_true * np.log(y_pred-eps) + (1-y_true) * np.log(1-y_pred+eps)).mean()\n",
    "    return loss\n",
    "\n",
    "def update_params(w, X, proba, y, lr):\n",
    "    gradient = (X.T @ (proba - y))\n",
    "    w = w - lr / len(X) * gradient\n",
    "    return w\n",
    "\n",
    "\n",
    "class MyLogisticRegression():\n",
    "    def __init__(self, fit_intercept=True):\n",
    "        self.w = None\n",
    "        self.X = None\n",
    "        self.y_true = None\n",
    "        self.fit_intercept=fit_intercept\n",
    "        return\n",
    "    \n",
    "    def initialize_params(self, size):\n",
    "        # np.random.seed(seed=32)\n",
    "        return np.random.rand(size)\n",
    "    \n",
    "    def add_const(self, X):\n",
    "        return np.hstack((X, np.ones((len(X), 1))))\n",
    "    \n",
    "    def fit(self, X, y):\n",
    "        if self.fit_intercept:\n",
    "            self.X = self.add_const(X)\n",
    "        self.y_true = y\n",
    "        self.w = self.initialize_params(self.X.shape[1])\n",
    "        \n",
    "        lr = 0.01\n",
    "        max_itr = 10000\n",
    "        loss_hist = float('inf')\n",
    "        for i in range(max_itr):\n",
    "            y_proba = self.predict_proba(self.X)\n",
    "            log_loss = calc_loss(self.y_true, y_proba)\n",
    "            if log_loss > loss_hist:\n",
    "                break\n",
    "            loss_hist = min(loss_hist, log_loss)\n",
    "            self.w = update_params(self.w, self.X, y_proba, self.y_true, lr)\n",
    "        \n",
    "    def predict_proba(self, X):\n",
    "        if self.fit_intercept:\n",
    "            return sigmoid(self.X @ self.w)\n",
    "        else:\n",
    "            return sigmoid(X @ self.w)\n",
    "    \n",
    "    def score(self, X, y):\n",
    "        y_pred = (self.predict_proba(X) > 0.5) * 1\n",
    "        return (y_pred == y).sum() / len(y)"
   ]
  },
  {
   "cell_type": "code",
   "execution_count": 13,
   "metadata": {},
   "outputs": [
    {
     "data": {
      "text/plain": [
       "0.99"
      ]
     },
     "execution_count": 13,
     "metadata": {},
     "output_type": "execute_result"
    }
   ],
   "source": [
    "mlr = MyLogisticRegression()\n",
    "mlr.fit(X, y)\n",
    "mlr.score(X, y)"
   ]
  },
  {
   "cell_type": "code",
   "execution_count": 122,
   "metadata": {},
   "outputs": [
    {
     "data": {
      "text/plain": [
       "array([ 3.0414894 , -5.09739709, -0.69327281])"
      ]
     },
     "execution_count": 122,
     "metadata": {},
     "output_type": "execute_result"
    }
   ],
   "source": [
    "mlr.w"
   ]
  },
  {
   "cell_type": "code",
   "execution_count": 15,
   "metadata": {},
   "outputs": [
    {
     "data": {
      "image/png": "[encoded data removed]",
      "text/plain": [
       "<Figure size 432x288 with 1 Axes>"
      ]
     },
     "metadata": {
      "needs_background": "light"
     },
     "output_type": "display_data"
    }
   ],
   "source": [
    "mydata.plot_boundary(mlr.w[:2], mlr.w[2])"
   ]
  }
 ],
 "metadata": {
  "kernelspec": {
   "display_name": "Python 3",
   "language": "python",
   "name": "python3"
  },
  "language_info": {
   "codemirror_mode": {
    "name": "ipython",
    "version": 3
   },
   "file_extension": ".py",
   "mimetype": "text/x-python",
   "name": "python",
   "nbconvert_exporter": "python",
   "pygments_lexer": "ipython3",
   "version": "3.7.3"
  }
 },
 "nbformat": 4,
 "nbformat_minor": 2
}

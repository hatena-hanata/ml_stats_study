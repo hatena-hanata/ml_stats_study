{
 "cells": [
  {
   "cell_type": "markdown",
   "metadata": {},
   "source": [
    "# 第2回　ロジスティック回帰\n",
    "3月17日　石村"
   ]
  },
  {
   "cell_type": "markdown",
   "metadata": {},
   "source": [
    "## データセット\n",
    "乳がんデータ（二値分類）"
   ]
  },
  {
   "cell_type": "code",
   "execution_count": 4,
   "metadata": {},
   "outputs": [],
   "source": [
    "from sklearn.datasets import load_breast_cancer\n",
    "import pandas as pd\n",
    "import warnings\n",
    "warnings.filterwarnings('ignore')\n",
    "\n",
    "cancer = load_breast_cancer()\n",
    "\n",
    "import pandas as pd\n",
    "X = pd.DataFrame(cancer.data, columns=cancer.feature_names)\n",
    "y = cancer.target"
   ]
  },
  {
   "cell_type": "code",
   "execution_count": 5,
   "metadata": {},
   "outputs": [],
   "source": [
    "# 今回は2変数のみ使用する\n",
    "X = X[X.columns[:2]]"
   ]
  },
  {
   "cell_type": "markdown",
   "metadata": {},
   "source": [
    "## sklearnのロジスティック回帰"
   ]
  },
  {
   "cell_type": "code",
   "execution_count": 103,
   "metadata": {},
   "outputs": [
    {
     "data": {
      "text/plain": [
       "LogisticRegression(C=1.0, class_weight=None, dual=False, fit_intercept=True,\n",
       "                   intercept_scaling=1, l1_ratio=None, max_iter=100,\n",
       "                   multi_class='auto', n_jobs=None, penalty='none',\n",
       "                   random_state=42, solver='lbfgs', tol=0.0001, verbose=0,\n",
       "                   warm_start=False)"
      ]
     },
     "execution_count": 103,
     "metadata": {},
     "output_type": "execute_result"
    }
   ],
   "source": [
    "from sklearn.linear_model import LogisticRegression\n",
    "\n",
    "lr = LogisticRegression(penalty='none', random_state=42)\n",
    "lr.fit(X, y)"
   ]
  },
  {
   "cell_type": "code",
   "execution_count": 104,
   "metadata": {},
   "outputs": [
    {
     "data": {
      "text/plain": [
       "array([[-1.05710374, -0.21814035]])"
      ]
     },
     "execution_count": 104,
     "metadata": {},
     "output_type": "execute_result"
    }
   ],
   "source": [
    "lr.coef_"
   ]
  },
  {
   "cell_type": "code",
   "execution_count": 105,
   "metadata": {},
   "outputs": [
    {
     "data": {
      "text/plain": [
       "array([19.84943528])"
      ]
     },
     "execution_count": 105,
     "metadata": {},
     "output_type": "execute_result"
    }
   ],
   "source": [
    "lr.intercept_"
   ]
  },
  {
   "cell_type": "code",
   "execution_count": 175,
   "metadata": {},
   "outputs": [
    {
     "data": {
      "text/plain": [
       "0.8910369068541301"
      ]
     },
     "execution_count": 175,
     "metadata": {},
     "output_type": "execute_result"
    }
   ],
   "source": [
    "y_proba = lr.predict_proba(X)\n",
    "from sklearn.metrics import log_loss\n",
    "\n",
    "lr.score(X, y)"
   ]
  },
  {
   "cell_type": "markdown",
   "metadata": {},
   "source": [
    "# 自力で実装"
   ]
  },
  {
   "cell_type": "code",
   "execution_count": 30,
   "metadata": {},
   "outputs": [],
   "source": [
    "import numpy as np\n",
    "\n",
    "def sigmoid(x):\n",
    "    return 1.0 / (1.0 + np.exp(-x))\n",
    "\n",
    "def calc_loss(y_true, y_pred):\n",
    "    eps = 1e-15\n",
    "    loss = -(-y_true * np.log(y_pred-eps) + (1-y_true) * np.log(1-y_pred+eps)).mean()\n",
    "    return loss\n",
    "\n",
    "def update_params(w, X, proba, y, lr):\n",
    "    gradient = (X.T @ (proba - y)).values\n",
    "    w = w - lr / len(X) * gradient\n",
    "    return w\n",
    "\n",
    "\n",
    "class MyLogisticRegression():\n",
    "    def __init__(self, fit_intercept=True):\n",
    "        self.w = None\n",
    "        self.X = None\n",
    "        self.y_true = None\n",
    "        self.fit_intercept=fit_intercept\n",
    "        return\n",
    "    \n",
    "    def initialize_params(self, size):\n",
    "        np.random.seed(seed=32)\n",
    "        return np.random.rand(size)\n",
    "    \n",
    "    \n",
    "    \n",
    "    def fit(self, X, y):\n",
    "        if self.fit_intercept:\n",
    "            self.X = X.copy()\n",
    "            self.X['const'] = 1\n",
    "        self.y_true = y\n",
    "        self.w = self.initialize_params(self.X.shape[1])\n",
    "        \n",
    "        lr = 0.01\n",
    "        max_itr = 10000\n",
    "        loss_hist = float('inf')\n",
    "        for i in range(max_itr):\n",
    "            y_proba = self.predict_proba(self.X)\n",
    "            log_loss = calc_loss(self.y_true, y_proba)\n",
    "            if log_loss > loss_hist:\n",
    "                print(i)\n",
    "                break\n",
    "            self.w = update_params(self.w, self.X, y_proba, self.y_true, lr)\n",
    "        \n",
    "    def predict_proba(self, X):\n",
    "        return sigmoid(X @ self.w)"
   ]
  },
  {
   "cell_type": "code",
   "execution_count": 31,
   "metadata": {},
   "outputs": [],
   "source": [
    "lr = MyLogisticRegression()"
   ]
  },
  {
   "cell_type": "code",
   "execution_count": 32,
   "metadata": {},
   "outputs": [],
   "source": [
    "lr.fit(X, y)"
   ]
  },
  {
   "cell_type": "code",
   "execution_count": 33,
   "metadata": {},
   "outputs": [
    {
     "data": {
      "text/plain": [
       "0.8717047451669596"
      ]
     },
     "execution_count": 33,
     "metadata": {},
     "output_type": "execute_result"
    }
   ],
   "source": [
    "t = X.copy()\n",
    "t['c'] = 1\n",
    "((lr.predict_proba(t) > 0.5)*1 == y).sum() / len(y)"
   ]
  },
  {
   "cell_type": "code",
   "execution_count": 34,
   "metadata": {},
   "outputs": [
    {
     "data": {
      "text/plain": [
       "array([-0.34252985,  0.02223078,  4.83420403])"
      ]
     },
     "execution_count": 34,
     "metadata": {},
     "output_type": "execute_result"
    }
   ],
   "source": [
    "lr.w"
   ]
  }
 ],
 "metadata": {
  "kernelspec": {
   "display_name": "Python 3",
   "language": "python",
   "name": "python3"
  },
  "language_info": {
   "codemirror_mode": {
    "name": "ipython",
    "version": 3
   },
   "file_extension": ".py",
   "mimetype": "text/x-python",
   "name": "python",
   "nbconvert_exporter": "python",
   "pygments_lexer": "ipython3",
   "version": "3.7.3"
  }
 },
 "nbformat": 4,
 "nbformat_minor": 2
}

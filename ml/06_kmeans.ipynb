{
 "cells": [
  {
   "cell_type": "markdown",
   "metadata": {},
   "source": [
    "# クラスタリング（k-means）"
   ]
  },
  {
   "cell_type": "code",
   "execution_count": 1,
   "metadata": {},
   "outputs": [],
   "source": [
    "from utility import *\n",
    "\n",
    "mydata = MyData(class_num=2)\n",
    "X, y = mydata.get_dataset()"
   ]
  },
  {
   "cell_type": "code",
   "execution_count": 2,
   "metadata": {},
   "outputs": [
    {
     "data": {
      "image/png": "[encoded data removed]",
      "text/plain": [
       "<Figure size 432x288 with 1 Axes>"
      ]
     },
     "metadata": {
      "needs_background": "light"
     },
     "output_type": "display_data"
    }
   ],
   "source": [
    "mydata.plot_data()"
   ]
  },
  {
   "cell_type": "markdown",
   "metadata": {},
   "source": [
    "# sklearnのk-means"
   ]
  },
  {
   "cell_type": "code",
   "execution_count": 3,
   "metadata": {},
   "outputs": [
    {
     "data": {
      "text/plain": [
       "KMeans(algorithm='auto', copy_x=True, init='k-means++', max_iter=300,\n",
       "       n_clusters=2, n_init=10, n_jobs=None, precompute_distances='auto',\n",
       "       random_state=1, tol=0.0001, verbose=0)"
      ]
     },
     "execution_count": 3,
     "metadata": {},
     "output_type": "execute_result"
    }
   ],
   "source": [
    "from sklearn.cluster import KMeans\n",
    "\n",
    "kmeans = KMeans(n_clusters=2, init='k-means++', random_state=1)\n",
    "kmeans.fit(X)"
   ]
  },
  {
   "cell_type": "code",
   "execution_count": 4,
   "metadata": {},
   "outputs": [
    {
     "data": {
      "text/plain": [
       "<matplotlib.collections.PathCollection at 0x1cd8a9a8668>"
      ]
     },
     "execution_count": 4,
     "metadata": {},
     "output_type": "execute_result"
    },
    {
     "data": {
      "image/png": "[encoded data removed]",
      "text/plain": [
       "<Figure size 432x288 with 1 Axes>"
      ]
     },
     "metadata": {
      "needs_background": "light"
     },
     "output_type": "display_data"
    }
   ],
   "source": [
    "y_pred = kmeans.predict(X)\n",
    "plt.scatter(X[y_pred==0][:, 0], X[y_pred==0][:, 1], color='red')\n",
    "plt.scatter(X[y_pred==1][:, 0], X[y_pred==1][:, 1], color='blue')"
   ]
  },
  {
   "cell_type": "markdown",
   "metadata": {},
   "source": [
    "一部間違っている"
   ]
  },
  {
   "cell_type": "markdown",
   "metadata": {},
   "source": [
    "# 自分で実装"
   ]
  },
  {
   "cell_type": "code",
   "execution_count": 118,
   "metadata": {},
   "outputs": [],
   "source": [
    "class MyKmeans():\n",
    "    def __init__(self, n_clusters, random_state, init='random', max_itr=10):\n",
    "        self.n_clusters = n_clusters\n",
    "        self.init = init\n",
    "        self.random_state = random_state\n",
    "        self.centers = None\n",
    "        self.max_itr = max_itr\n",
    "\n",
    "    def fit(self, X):\n",
    "        n_clusters = self.n_clusters\n",
    "        n_samples = len(X)\n",
    "        labels = np.zeros(n_samples)\n",
    "        \n",
    "        if self.init == 'random':\n",
    "            init = X[np.random.choice(len(X), n_clusters, replace=False)]\n",
    "            new_labels = np.random.randint(n_clusters, size=n_samples)\n",
    "        \n",
    "        elif self.init == 'k-means++':\n",
    "            centers = []\n",
    "            # ランダムに最初のクラスタ中心を決定\n",
    "            f_index = np.random.choice(np.array(range(n_samples)))\n",
    "            centers.append(X[f_index])\n",
    "            \n",
    "            # 最初のクラスタ中心とそれ以外のデータとの距離の2乗を計算し、それぞれをその和で割る\n",
    "            prob = ((X - centers[0])**2).sum(axis=1) / ((X - centers[0])**2).sum()\n",
    "            # 上の確率分布に従って新たなクラスタ中心を求める\n",
    "            s_index = np.random.choice(np.array(range(n_samples)), size=1, replace=False, p=prob)\n",
    "            centers.append(X[s_index])\n",
    "            \n",
    "            if n_clusters > 2:\n",
    "                while len(centers) < n_clusters:\n",
    "                    dist_table = np.zeros(n_samples)\n",
    "                    for i in range(n_samples):\n",
    "                        dist_table[i] = min([((X[i] - center)**2).sum() for center in centers])\n",
    "                    prob = dist_table / dist_table.sum()\n",
    "                    new_index = np.random.choice(np.array(range(n_samples)), size=1, replace=False, p=prob)\n",
    "                    centers.append(X[new_index])\n",
    "\n",
    "            # クラスタの割り振りなおし\n",
    "            new_labels = np.array([])\n",
    "            for i in range(n_samples):\n",
    "                tmp = []\n",
    "                for center in centers:\n",
    "                    dist = np.linalg.norm(center - X[i])\n",
    "                    tmp.append(dist)\n",
    "                new_label = np.argmin(np.array(tmp))\n",
    "                new_labels = np.append(new_labels, new_label)\n",
    "\n",
    "        for itr in range(self.max_itr):\n",
    "            # クラスタに変化がなければ終了\n",
    "            if (labels == new_labels).all():\n",
    "                print(itr)\n",
    "                break\n",
    "\n",
    "            # クラスタの更新\n",
    "            labels = np.copy(new_labels)\n",
    "\n",
    "            # 各クラスタの中心を求める\n",
    "            centers = []\n",
    "            for cluster in range(n_clusters):\n",
    "                center = X[labels==cluster].mean(axis=0)\n",
    "                centers.append(center)\n",
    "            centers = np.array(centers)\n",
    "\n",
    "            # クラスタの割り振りなおし\n",
    "            new_labels = np.array([])\n",
    "            for i in range(n_samples):\n",
    "                tmp = []\n",
    "                for center in centers:\n",
    "                    dist = np.linalg.norm(center - X[i])\n",
    "                    tmp.append(dist)\n",
    "                new_label = np.argmin(np.array(tmp))\n",
    "                new_labels = np.append(new_labels, new_label)\n",
    "        \n",
    "        self.centers = centers\n",
    "    \n",
    "    def predict(self, X):\n",
    "        n_samples = len(X)\n",
    "        new_labels = np.array([])\n",
    "        print(len(self.centers))\n",
    "        for i in range(n_samples):\n",
    "            tmp = []\n",
    "            for center in self.centers:\n",
    "                dist = np.linalg.norm(center - X[i])\n",
    "                tmp.append(dist)\n",
    "            new_label = np.argmin(np.array(tmp))\n",
    "            new_labels = np.append(new_labels, new_label)\n",
    "        return new_labels"
   ]
  },
  {
   "cell_type": "code",
   "execution_count": 106,
   "metadata": {},
   "outputs": [
    {
     "name": "stdout",
     "output_type": "stream",
     "text": [
      "[1. 1. 1. 1. 1. 0. 1. 1. 1. 1. 0. 1. 1. 1. 0. 0. 0. 1. 0. 1. 0. 1. 1. 1.\n",
      " 1. 1. 1. 1. 1. 1. 1. 0. 0. 0. 1. 1. 0. 1. 1. 1. 1. 1. 1. 1. 1. 1. 1. 1.\n",
      " 0. 1. 0. 0. 0. 1. 0. 1. 0. 1. 0. 1. 1. 0. 1. 0. 1. 0. 1. 1. 1. 1. 0. 0.\n",
      " 0. 0. 0. 0. 0. 0. 0. 1. 1. 1. 1. 0. 1. 0. 0. 0. 1. 1. 1. 0. 1. 1. 1. 0.\n",
      " 1. 0. 1. 1.]\n",
      "5\n"
     ]
    },
    {
     "data": {
      "text/plain": [
       "<matplotlib.collections.PathCollection at 0x1cd8ad2fc18>"
      ]
     },
     "execution_count": 106,
     "metadata": {},
     "output_type": "execute_result"
    },
    {
     "data": {
      "image/png": "[encoded data removed]",
      "text/plain": [
       "<Figure size 432x288 with 1 Axes>"
      ]
     },
     "metadata": {
      "needs_background": "light"
     },
     "output_type": "display_data"
    }
   ],
   "source": [
    "mkmeans = MyKmeans(n_clusters=2, random_state=42, max_itr=10, init='k-means++')\n",
    "mkmeans.fit(X)\n",
    "y_pred = mkmeans.predict(X)\n",
    "plt.scatter(X[y_pred==0][:, 0], X[y_pred==0][:, 1], color='red')\n",
    "plt.scatter(X[y_pred==1][:, 0], X[y_pred==1][:, 1], color='blue')"
   ]
  },
  {
   "cell_type": "code",
   "execution_count": 121,
   "metadata": {},
   "outputs": [
    {
     "name": "stdout",
     "output_type": "stream",
     "text": [
      "5\n",
      "3\n",
      "3\n",
      "3\n"
     ]
    },
    {
     "data": {
      "image/png": "[encoded data removed]",
      "text/plain": [
       "<Figure size 432x288 with 1 Axes>"
      ]
     },
     "metadata": {
      "needs_background": "light"
     },
     "output_type": "display_data"
    }
   ],
   "source": [
    "np.random.seed(0)\n",
    "points1 = np.random.randn(80, 2)\n",
    "points2 = np.random.randn(80, 2) + np.array([4,0])\n",
    "points3 = np.random.randn(80, 2) + np.array([5,8])\n",
    "\n",
    "points = np.r_[points1, points2, points3]\n",
    "np.random.shuffle(points)\n",
    "\n",
    "#3つのクラスタに分けるモデルを作成\n",
    "model = MyKmeans(n_clusters=3, random_state=42, max_itr=100, init='random')\n",
    "model.fit(points)\n",
    "\n",
    "\n",
    "markers = [\"+\", \"*\", \"o\", '+']\n",
    "color = ['r', 'b', 'g', 'k']\n",
    "for i in range(3):\n",
    "    p = points[model.predict(points) == i, :]\n",
    "    plt.scatter(p[:, 0], p[:, 1], marker = markers[i], color = color[i])\n",
    "\n",
    "plt.show()"
   ]
  }
 ],
 "metadata": {
  "kernelspec": {
   "display_name": "Python 3",
   "language": "python",
   "name": "python3"
  },
  "language_info": {
   "codemirror_mode": {
    "name": "ipython",
    "version": 3
   },
   "file_extension": ".py",
   "mimetype": "text/x-python",
   "name": "python",
   "nbconvert_exporter": "python",
   "pygments_lexer": "ipython3",
   "version": "3.7.3"
  }
 },
 "nbformat": 4,
 "nbformat_minor": 2
}

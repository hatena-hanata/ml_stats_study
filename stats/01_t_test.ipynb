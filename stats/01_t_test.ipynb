{
 "cells": [
  {
   "cell_type": "markdown",
   "metadata": {},
   "source": [
    "# t検定をスクラッチで実装する"
   ]
  },
  {
   "cell_type": "markdown",
   "metadata": {},
   "source": [
    "t検定は **母平均** に対する検定。「グループA,Bの平均値が異なるかどうか」、「Aの平均値が0かどうか」など"
   ]
  },
  {
   "cell_type": "markdown",
   "metadata": {},
   "source": [
    "## 1. データセット"
   ]
  },
  {
   "cell_type": "markdown",
   "metadata": {},
   "source": [
    "グループA：平均50、標準偏差10の正規分布から1000個ランダムサンプリング  \n",
    "グループB：平均48、標準偏差12の正規分布から1200個ランダムサンプリング"
   ]
  },
  {
   "cell_type": "code",
   "execution_count": 1,
   "metadata": {},
   "outputs": [
    {
     "data": {
      "text/plain": [
       "<matplotlib.legend.Legend at 0x7fb42271a4c0>"
      ]
     },
     "execution_count": 1,
     "metadata": {},
     "output_type": "execute_result"
    },
    {
     "data": {
      "image/png": "[encoded data removed]",
      "text/plain": [
       "<Figure size 432x288 with 1 Axes>"
      ]
     },
     "metadata": {
      "needs_background": "light"
     },
     "output_type": "display_data"
    }
   ],
   "source": [
    "import numpy as np\n",
    "import matplotlib.pyplot as plt\n",
    "\n",
    "np.random.seed(42)\n",
    "\n",
    "m = 1000\n",
    "n = 1200\n",
    "a = np.random.normal(loc=50, scale=10, size=m)\n",
    "b = np.random.normal(loc=48, scale=12, size=n)\n",
    "\n",
    "plt.hist(a, bins=100, alpha=0.3, histtype='stepfilled', color='r', label='A')\n",
    "plt.hist(b, bins=100, alpha=0.3, histtype='stepfilled', color='b', label='B')\n",
    "plt.legend()"
   ]
  },
  {
   "cell_type": "markdown",
   "metadata": {},
   "source": [
    "## 2. Studentのt検定（等分散を仮定）"
   ]
  },
  {
   "cell_type": "markdown",
   "metadata": {},
   "source": [
    "今回のデータは対応がない2群のt検定となる。ここでは等分散を仮定したt検定を実施"
   ]
  },
  {
   "cell_type": "markdown",
   "metadata": {},
   "source": [
    "### 2-1. 各種統計量を求める"
   ]
  },
  {
   "cell_type": "code",
   "execution_count": 2,
   "metadata": {},
   "outputs": [],
   "source": [
    "# a 平均と不偏分散\n",
    "a_mean = a.mean()\n",
    "a_var = a.var(ddof=1)\n",
    "# b 平均と不偏分散\n",
    "b_mean = b.mean()\n",
    "b_var = b.var(ddof=1)"
   ]
  },
  {
   "cell_type": "code",
   "execution_count": 3,
   "metadata": {},
   "outputs": [],
   "source": [
    "# poolした分散\n",
    "s_2 = ((m - 1) * a_var + (n - 1) * b_var) / (m + n - 2)\n",
    "# 自由度\n",
    "dof = m + n - 2"
   ]
  },
  {
   "cell_type": "markdown",
   "metadata": {},
   "source": [
    "### 2-2. t値、p値を求める"
   ]
  },
  {
   "cell_type": "code",
   "execution_count": 4,
   "metadata": {},
   "outputs": [
    {
     "name": "stdout",
     "output_type": "stream",
     "text": [
      "t値：3.4287178596465306 p値：0.0006176178409258437\n"
     ]
    }
   ],
   "source": [
    "from scipy.stats import t\n",
    "\n",
    "t_value = (a_mean - b_mean) / (np.sqrt(s_2 * (1/m + (1/n))))\n",
    "\n",
    "dof = m + n - 2\n",
    "p_value = min(t.cdf(t_value, dof), 1-t.cdf(t_value, dof)) * 2\n",
    "\n",
    "print(f't値：{t_value} p値：{p_value}')"
   ]
  },
  {
   "cell_type": "markdown",
   "metadata": {},
   "source": [
    "### 2-3. scipyのt検定"
   ]
  },
  {
   "cell_type": "code",
   "execution_count": 5,
   "metadata": {},
   "outputs": [
    {
     "data": {
      "text/plain": [
       "Ttest_indResult(statistic=3.4287178596465306, pvalue=0.0006176178409258371)"
      ]
     },
     "execution_count": 5,
     "metadata": {},
     "output_type": "execute_result"
    }
   ],
   "source": [
    "from scipy import stats\n",
    "\n",
    "stats.ttest_ind(a, b)"
   ]
  },
  {
   "cell_type": "markdown",
   "metadata": {},
   "source": [
    "値がほぼ一致していることが分かる。"
   ]
  },
  {
   "cell_type": "markdown",
   "metadata": {},
   "source": [
    "## 3. Weltchのt検定（等分散を仮定しない）"
   ]
  },
  {
   "cell_type": "markdown",
   "metadata": {},
   "source": [
    "### 3-1. 各種統計量を求める"
   ]
  },
  {
   "cell_type": "code",
   "execution_count": 6,
   "metadata": {},
   "outputs": [],
   "source": [
    "# a 平均と不偏分散\n",
    "a_mean = a.mean()\n",
    "a_var = a.var(ddof=1)\n",
    "# b 平均と不偏分散\n",
    "b_mean = b.mean()\n",
    "b_var = b.var(ddof=1)"
   ]
  },
  {
   "cell_type": "code",
   "execution_count": 7,
   "metadata": {},
   "outputs": [],
   "source": [
    "# 使用する分散\n",
    "s_2 = a_var / m + b_var / n\n",
    "# 自由度\n",
    "dof = int((a_var / m + b_var / n)**2 / (((a_var/m)**2 / (m-1)) + ((b_var/n)**2 / (n-1))))"
   ]
  },
  {
   "cell_type": "markdown",
   "metadata": {},
   "source": [
    "### 3-2. t値、p値を求める"
   ]
  },
  {
   "cell_type": "code",
   "execution_count": 8,
   "metadata": {},
   "outputs": [
    {
     "name": "stdout",
     "output_type": "stream",
     "text": [
      "t値：3.490154519416705 p値：0.000492256894277121\n"
     ]
    }
   ],
   "source": [
    "from scipy.stats import t\n",
    "\n",
    "t_value = (a_mean - b_mean) / np.sqrt(s_2)\n",
    "p_value = min(t.cdf(t_value, dof), 1-t.cdf(t_value, dof)) * 2\n",
    "\n",
    "print(f't値：{t_value} p値：{p_value}')"
   ]
  },
  {
   "cell_type": "markdown",
   "metadata": {},
   "source": [
    "### 3-3. scipyのt検定"
   ]
  },
  {
   "cell_type": "code",
   "execution_count": 9,
   "metadata": {},
   "outputs": [
    {
     "data": {
      "text/plain": [
       "Ttest_indResult(statistic=3.490154519416705, pvalue=0.0004922547773957867)"
      ]
     },
     "execution_count": 9,
     "metadata": {},
     "output_type": "execute_result"
    }
   ],
   "source": [
    "stats.ttest_ind(a, b, equal_var=False)"
   ]
  },
  {
   "cell_type": "markdown",
   "metadata": {},
   "source": [
    "値がほぼ一致している"
   ]
  },
  {
   "cell_type": "markdown",
   "metadata": {},
   "source": [
    "## 4. 関数化"
   ]
  },
  {
   "cell_type": "markdown",
   "metadata": {},
   "source": [
    "以上を踏まえた上で、１つの関数にする"
   ]
  },
  {
   "cell_type": "code",
   "execution_count": 10,
   "metadata": {},
   "outputs": [],
   "source": [
    "from scipy.stats import t\n",
    "import numpy as np\n",
    "\n",
    "\n",
    "def t_test(a_mean, a_var, a_n, b_mean, b_var, b_n, equal_var=True):\n",
    "    # Studentのt検定\n",
    "    if equal_var:\n",
    "        s_2 = ((a_n - 1) * a_var + (b_n - 1) * b_var) / (a_n + b_n - 2)\n",
    "        dof = a_n + b_n - 2\n",
    "    # Weltchのt検定\n",
    "    else:\n",
    "        s_2 = a_var / a_n + b_var / b_n\n",
    "        dof = int((a_var / a_n + b_var / b_n)**2 / (((a_var/ a_n)**2 / (a_n-1)) + ((b_var/b_n)**2 / (b_n-1))))\n",
    "    \n",
    "    t_value = (a_mean - b_mean) / np.sqrt(s_2)\n",
    "    p_value = min(t.cdf(t_value, dof), 1-t.cdf(t_value, dof)) * 2\n",
    "\n",
    "    print(f'TtestResult(statistic={t_value}, pvalue={p_value})')"
   ]
  }
 ],
 "metadata": {
  "kernelspec": {
   "display_name": "Python 3",
   "language": "python",
   "name": "python3"
  },
  "language_info": {
   "codemirror_mode": {
    "name": "ipython",
    "version": 3
   },
   "file_extension": ".py",
   "mimetype": "text/x-python",
   "name": "python",
   "nbconvert_exporter": "python",
   "pygments_lexer": "ipython3",
   "version": "3.8.0"
  }
 },
 "nbformat": 4,
 "nbformat_minor": 4
}

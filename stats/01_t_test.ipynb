{
 "cells": [
  {
   "cell_type": "markdown",
   "metadata": {},
   "source": [
    "# t検定をスクラッチで実装する"
   ]
  },
  {
   "cell_type": "markdown",
   "metadata": {},
   "source": [
    "t検定は **母平均** に対する検定。「グループA,Bの平均値が異なるかどうか」、「Aの平均値が0かどうか」など"
   ]
  },
  {
   "cell_type": "markdown",
   "metadata": {},
   "source": [
    "## 1. データセット"
   ]
  },
  {
   "cell_type": "markdown",
   "metadata": {},
   "source": [
    "suumoから千代田区と北区の賃料を取得する"
   ]
  },
  {
   "cell_type": "code",
   "execution_count": null,
   "metadata": {},
   "outputs": [],
   "source": []
  },
  {
   "cell_type": "markdown",
   "metadata": {},
   "source": [
    "## 2. Studentのt検定（等分散を仮定）"
   ]
  },
  {
   "cell_type": "markdown",
   "metadata": {},
   "source": [
    "今回のデータは対応がない2群のt検定となる。ここでは等分散を仮定したt検定を実施"
   ]
  },
  {
   "cell_type": "code",
   "execution_count": 98,
   "metadata": {},
   "outputs": [],
   "source": [
    "import numpy as np\n",
    "\n",
    "np.random.seed(10)\n",
    "m = 100\n",
    "n = 120\n",
    "a = np.random.normal(loc=50, scale=10, size=m)\n",
    "b = np.random.normal(loc=48, scale=12, size=n)"
   ]
  },
  {
   "cell_type": "markdown",
   "metadata": {},
   "source": [
    "### 2-1. 各種統計量を求める"
   ]
  },
  {
   "cell_type": "code",
   "execution_count": 103,
   "metadata": {},
   "outputs": [],
   "source": [
    "# a 平均と不偏分散\n",
    "a_mean = a.mean()\n",
    "a_var = a.var(ddof=1)\n",
    "# b 平均と不偏分散\n",
    "b_mean = b.mean()\n",
    "b_var = b.var(ddof=1)"
   ]
  },
  {
   "cell_type": "code",
   "execution_count": 104,
   "metadata": {},
   "outputs": [],
   "source": [
    "# poolした分散\n",
    "s_2 = ((m - 1) * a_var + (n - 1) * b_var) / (m + n - 2)\n",
    "# 自由度\n",
    "dof = m + n - 2"
   ]
  },
  {
   "cell_type": "markdown",
   "metadata": {},
   "source": [
    "### 2-2. t値、p値を求める"
   ]
  },
  {
   "cell_type": "code",
   "execution_count": 106,
   "metadata": {},
   "outputs": [
    {
     "name": "stdout",
     "output_type": "stream",
     "text": [
      "t値：1.5542287653302505 p値：0.12158039393310838\n"
     ]
    }
   ],
   "source": [
    "from scipy.stats import t\n",
    "\n",
    "t_value = (a_mean - b_mean) / (np.sqrt(s_2 * (1/m + (1/n))))\n",
    "\n",
    "dof = m + n - 2\n",
    "if t_value >= 0:\n",
    "    p_value = (1 - t.cdf(t_value, dof)) * 2\n",
    "else:\n",
    "    p_value = t.cdf(t_value, dof) * 2\n",
    "\n",
    "print(f't値：{t_value} p値：{p_value}')"
   ]
  },
  {
   "cell_type": "markdown",
   "metadata": {},
   "source": [
    "### 2-3. scipyのt検定"
   ]
  },
  {
   "cell_type": "code",
   "execution_count": 107,
   "metadata": {},
   "outputs": [
    {
     "data": {
      "text/plain": [
       "Ttest_indResult(statistic=1.5542287653302505, pvalue=0.12158039393310824)"
      ]
     },
     "execution_count": 107,
     "metadata": {},
     "output_type": "execute_result"
    }
   ],
   "source": [
    "stats.ttest_ind(a, b)"
   ]
  },
  {
   "cell_type": "markdown",
   "metadata": {},
   "source": [
    "値がほぼ一致していることが分かる。"
   ]
  },
  {
   "cell_type": "markdown",
   "metadata": {},
   "source": [
    "## 3. Weltchのt検定（等分散を仮定しない）"
   ]
  },
  {
   "cell_type": "markdown",
   "metadata": {},
   "source": [
    "### 3-1. 各種統計量を求める"
   ]
  },
  {
   "cell_type": "code",
   "execution_count": 109,
   "metadata": {},
   "outputs": [],
   "source": [
    "# a 平均と不偏分散\n",
    "a_mean = a.mean()\n",
    "a_var = a.var(ddof=1)\n",
    "# b 平均と不偏分散\n",
    "b_mean = b.mean()\n",
    "b_var = b.var(ddof=1)"
   ]
  },
  {
   "cell_type": "code",
   "execution_count": 118,
   "metadata": {},
   "outputs": [],
   "source": [
    "# 使用する分散\n",
    "s_2 = a_var / m + b_var / n\n",
    "# 自由度\n",
    "dof = int((a_var / m + b_var / n)**2 / (((a_var/m)**2 / (m-1)) + ((b_var/n)**2 / (n-1))))"
   ]
  },
  {
   "cell_type": "markdown",
   "metadata": {},
   "source": [
    "### 3-2. t値、p値を求める"
   ]
  },
  {
   "cell_type": "code",
   "execution_count": 119,
   "metadata": {},
   "outputs": [
    {
     "name": "stdout",
     "output_type": "stream",
     "text": [
      "t値：1.5832592076547947 p値：0.11481870230205526\n"
     ]
    }
   ],
   "source": [
    "from scipy.stats import t\n",
    "\n",
    "t_value = (a_mean - b_mean) / np.sqrt(s_2)\n",
    "\n",
    "if t_value >= 0:\n",
    "    p_value = (1 - t.cdf(t_value, dof)) * 2\n",
    "else:\n",
    "    p_value = t.cdf(t_value, dof) * 2\n",
    "\n",
    "print(f't値：{t_value} p値：{p_value}')"
   ]
  },
  {
   "cell_type": "markdown",
   "metadata": {},
   "source": [
    "### 3-3. scipyのt検定"
   ]
  },
  {
   "cell_type": "code",
   "execution_count": 120,
   "metadata": {},
   "outputs": [
    {
     "data": {
      "text/plain": [
       "Ttest_indResult(statistic=1.5832592076547947, pvalue=0.11481273851176753)"
      ]
     },
     "execution_count": 120,
     "metadata": {},
     "output_type": "execute_result"
    }
   ],
   "source": [
    "stats.ttest_ind(a, b, equal_var=False)"
   ]
  },
  {
   "cell_type": "markdown",
   "metadata": {},
   "source": [
    "値がほぼ一致している"
   ]
  }
 ],
 "metadata": {
  "kernelspec": {
   "display_name": "Python 3",
   "language": "python",
   "name": "python3"
  },
  "language_info": {
   "codemirror_mode": {
    "name": "ipython",
    "version": 3
   },
   "file_extension": ".py",
   "mimetype": "text/x-python",
   "name": "python",
   "nbconvert_exporter": "python",
   "pygments_lexer": "ipython3",
   "version": "3.8.0"
  }
 },
 "nbformat": 4,
 "nbformat_minor": 4
}

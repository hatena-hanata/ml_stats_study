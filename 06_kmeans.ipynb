{
 "cells": [
  {
   "cell_type": "markdown",
   "metadata": {},
   "source": [
    "# クラスタリング（k-means）"
   ]
  },
  {
   "cell_type": "code",
   "execution_count": 5,
   "metadata": {},
   "outputs": [],
   "source": [
    "from utility import *\n",
    "\n",
    "mydata = MyData(class_num=2)\n",
    "X, y = mydata.get_dataset()"
   ]
  },
  {
   "cell_type": "code",
   "execution_count": 6,
   "metadata": {},
   "outputs": [
    {
     "data": {
      "image/png": "[encoded data removed]",
      "text/plain": [
       "<Figure size 432x288 with 1 Axes>"
      ]
     },
     "metadata": {
      "needs_background": "light"
     },
     "output_type": "display_data"
    }
   ],
   "source": [
    "mydata.plot_data()"
   ]
  },
  {
   "cell_type": "markdown",
   "metadata": {},
   "source": [
    "# sklearnのk-means"
   ]
  },
  {
   "cell_type": "code",
   "execution_count": 120,
   "metadata": {},
   "outputs": [
    {
     "data": {
      "text/plain": [
       "KMeans(algorithm='auto', copy_x=True, init='k-means++', max_iter=300,\n",
       "       n_clusters=2, n_init=10, n_jobs=None, precompute_distances='auto',\n",
       "       random_state=1, tol=0.0001, verbose=0)"
      ]
     },
     "execution_count": 120,
     "metadata": {},
     "output_type": "execute_result"
    }
   ],
   "source": [
    "from sklearn.cluster import KMeans\n",
    "\n",
    "kmeans = KMeans(n_clusters=2, init='k-means++', random_state=1)\n",
    "kmeans.fit(X)"
   ]
  },
  {
   "cell_type": "code",
   "execution_count": 121,
   "metadata": {},
   "outputs": [
    {
     "data": {
      "text/plain": [
       "<matplotlib.collections.PathCollection at 0x24b5855bc18>"
      ]
     },
     "execution_count": 121,
     "metadata": {},
     "output_type": "execute_result"
    },
    {
     "data": {
      "image/png": "[encoded data removed]",
      "text/plain": [
       "<Figure size 432x288 with 1 Axes>"
      ]
     },
     "metadata": {
      "needs_background": "light"
     },
     "output_type": "display_data"
    }
   ],
   "source": [
    "y_pred = kmeans.predict(X)\n",
    "plt.scatter(X[y_pred==0][:, 0], X[y_pred==0][:, 1], color='red')\n",
    "plt.scatter(X[y_pred==1][:, 0], X[y_pred==1][:, 1], color='blue')"
   ]
  },
  {
   "cell_type": "markdown",
   "metadata": {},
   "source": [
    "一部間違っている"
   ]
  },
  {
   "cell_type": "markdown",
   "metadata": {},
   "source": [
    "# 自分で実装"
   ]
  },
  {
   "cell_type": "code",
   "execution_count": 182,
   "metadata": {},
   "outputs": [],
   "source": [
    "class MyKmeans():\n",
    "    def __init__(self, n_clusters, random_state, init='random', max_itr=10):\n",
    "        self.n_clusters = n_clusters\n",
    "        self.init = init\n",
    "        self.random_state = random_state\n",
    "        self.centers = None\n",
    "        self.max_itr = max_itr\n",
    "\n",
    "    def fit(self, X):\n",
    "        n_clusters = self.n_clusters\n",
    "        n_samples = len(X)\n",
    "        if self.init == 'random':\n",
    "            init = X[np.random.choice(len(X), n_clusters, replace=False)]\n",
    "            labels = np.array([0 for i in range(n_samples)])\n",
    "        \n",
    "        new_labels = np.random.randint(n_clusters, size=n_samples)\n",
    "\n",
    "        for itr in range(self.max_itr):\n",
    "            # クラスタに変化がなければ終了\n",
    "            if (labels == new_labels).all():\n",
    "                print(itr)\n",
    "                break\n",
    "\n",
    "            # クラスタの更新\n",
    "            labels = np.copy(new_labels)\n",
    "\n",
    "            # 各クラスタの中心を求める\n",
    "            centers = []\n",
    "            for cluster in range(n_clusters):\n",
    "                center = X[labels==cluster].mean(axis=0)\n",
    "                centers.append(center)\n",
    "            centers = np.array(centers)\n",
    "\n",
    "            # クラスタの割り振りなおし\n",
    "            new_labels = np.array([])\n",
    "            for i in range(n_samples):\n",
    "                tmp = []\n",
    "                for center in centers:\n",
    "                    dist = np.linalg.norm(center - X[i])\n",
    "                    tmp.append(dist)\n",
    "                new_label = np.argmin(np.array(tmp))\n",
    "                new_labels = np.append(new_labels, new_label)\n",
    "        \n",
    "        self.centers = centers\n",
    "    \n",
    "    def predict(self, X):\n",
    "        n_samples = len(X)\n",
    "        new_labels = np.array([])\n",
    "        for i in range(n_samples):\n",
    "            tmp = []\n",
    "            for center in self.centers:\n",
    "                dist = np.linalg.norm(center - X[i])\n",
    "                tmp.append(dist)\n",
    "            new_label = np.argmin(np.array(tmp))\n",
    "            new_labels = np.append(new_labels, new_label)\n",
    "        return new_labels"
   ]
  },
  {
   "cell_type": "code",
   "execution_count": 210,
   "metadata": {},
   "outputs": [
    {
     "name": "stdout",
     "output_type": "stream",
     "text": [
      "7\n"
     ]
    },
    {
     "data": {
      "text/plain": [
       "<matplotlib.collections.PathCollection at 0x24b59e7bf28>"
      ]
     },
     "execution_count": 210,
     "metadata": {},
     "output_type": "execute_result"
    },
    {
     "data": {
      "image/png": "[encoded data removed]",
      "text/plain": [
       "<Figure size 432x288 with 1 Axes>"
      ]
     },
     "metadata": {
      "needs_background": "light"
     },
     "output_type": "display_data"
    }
   ],
   "source": [
    "mkmeans = MyKmeans(n_clusters=2, random_state=42, max_itr=10)\n",
    "mkmeans.fit(X)\n",
    "y_pred = mkmeans.predict(X)\n",
    "plt.scatter(X[y_pred==0][:, 0], X[y_pred==0][:, 1], color='red')\n",
    "plt.scatter(X[y_pred==1][:, 0], X[y_pred==1][:, 1], color='blue')"
   ]
  },
  {
   "cell_type": "code",
   "execution_count": null,
   "metadata": {},
   "outputs": [],
   "source": []
  },
  {
   "cell_type": "code",
   "execution_count": null,
   "metadata": {},
   "outputs": [],
   "source": []
  },
  {
   "cell_type": "code",
   "execution_count": null,
   "metadata": {},
   "outputs": [],
   "source": []
  },
  {
   "cell_type": "code",
   "execution_count": null,
   "metadata": {},
   "outputs": [],
   "source": []
  },
  {
   "cell_type": "code",
   "execution_count": null,
   "metadata": {},
   "outputs": [],
   "source": []
  }
 ],
 "metadata": {
  "kernelspec": {
   "display_name": "Python 3",
   "language": "python",
   "name": "python3"
  },
  "language_info": {
   "codemirror_mode": {
    "name": "ipython",
    "version": 3
   },
   "file_extension": ".py",
   "mimetype": "text/x-python",
   "name": "python",
   "nbconvert_exporter": "python",
   "pygments_lexer": "ipython3",
   "version": "3.7.3"
  }
 },
 "nbformat": 4,
 "nbformat_minor": 2
}

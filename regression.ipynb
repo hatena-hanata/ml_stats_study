{
 "cells": [
  {
   "cell_type": "markdown",
   "metadata": {},
   "source": [
    "# 回帰分析をスクラッチで実装"
   ]
  },
  {
   "cell_type": "markdown",
   "metadata": {},
   "source": [
    "## データセット用意"
   ]
  },
  {
   "cell_type": "code",
   "execution_count": 1,
   "metadata": {},
   "outputs": [],
   "source": [
    "from numpy.random import *\n",
    "\n",
    "def dataset(n=50, s=42):\n",
    "    seed(s)\n",
    "    x = 10 * rand(n)\n",
    "    noise = 0.8 * randn(n)\n",
    "    y = x + np.sin(noise)\n",
    "    return x, y\n",
    "\n",
    "n = 50\n",
    "x, y = dataset(n, 42)"
   ]
  },
  {
   "cell_type": "code",
   "execution_count": 3,
   "metadata": {},
   "outputs": [
    {
     "data": {
      "text/plain": [
       "<matplotlib.collections.PathCollection at 0x18a364ebd68>"
      ]
     },
     "execution_count": 3,
     "metadata": {},
     "output_type": "execute_result"
    },
    {
     "data": {
      "image/png": "[encoded data removed]",
      "text/plain": [
       "<Figure size 432x288 with 1 Axes>"
      ]
     },
     "metadata": {
      "needs_background": "light"
     },
     "output_type": "display_data"
    }
   ],
   "source": [
    "import matplotlib.pyplot as plt\n",
    "\n",
    "plt.scatter(x, y)"
   ]
  },
  {
   "cell_type": "markdown",
   "metadata": {},
   "source": [
    "## sklearnで回帰分析"
   ]
  },
  {
   "cell_type": "code",
   "execution_count": 4,
   "metadata": {},
   "outputs": [
    {
     "data": {
      "text/plain": [
       "LinearRegression(copy_X=True, fit_intercept=True, n_jobs=None, normalize=False)"
      ]
     },
     "execution_count": 4,
     "metadata": {},
     "output_type": "execute_result"
    }
   ],
   "source": [
    "from sklearn.linear_model import LinearRegression\n",
    "\n",
    "lr = LinearRegression(fit_intercept=True)\n",
    "x = x.reshape(-1, 1)\n",
    "lr.fit(x, y)"
   ]
  },
  {
   "cell_type": "code",
   "execution_count": 5,
   "metadata": {},
   "outputs": [
    {
     "data": {
      "text/plain": [
       "0.03739699521344697"
      ]
     },
     "execution_count": 5,
     "metadata": {},
     "output_type": "execute_result"
    }
   ],
   "source": [
    "a = lr.intercept_\n",
    "a"
   ]
  },
  {
   "cell_type": "code",
   "execution_count": 6,
   "metadata": {},
   "outputs": [
    {
     "data": {
      "text/plain": [
       "0.9968466069321306"
      ]
     },
     "execution_count": 6,
     "metadata": {},
     "output_type": "execute_result"
    }
   ],
   "source": [
    "b = lr.coef_[0]\n",
    "b"
   ]
  },
  {
   "cell_type": "code",
   "execution_count": 7,
   "metadata": {},
   "outputs": [
    {
     "data": {
      "text/plain": [
       "[<matplotlib.lines.Line2D at 0x18a38713240>]"
      ]
     },
     "execution_count": 7,
     "metadata": {},
     "output_type": "execute_result"
    },
    {
     "data": {
      "image/png": "[encoded data removed]",
      "text/plain": [
       "<Figure size 432x288 with 1 Axes>"
      ]
     },
     "metadata": {
      "needs_background": "light"
     },
     "output_type": "display_data"
    }
   ],
   "source": [
    "sx = np.array([np.min(x), np.max(x)])\n",
    "sy = sx * b + a\n",
    "plt.scatter(x, y)\n",
    "plt.plot(sx, sy, 'red')"
   ]
  },
  {
   "cell_type": "markdown",
   "metadata": {},
   "source": [
    "## statsmodelsで回帰分析"
   ]
  },
  {
   "cell_type": "code",
   "execution_count": 8,
   "metadata": {},
   "outputs": [
    {
     "name": "stdout",
     "output_type": "stream",
     "text": [
      "                            OLS Regression Results                            \n",
      "==============================================================================\n",
      "Dep. Variable:                      y   R-squared:                       0.962\n",
      "Model:                            OLS   Adj. R-squared:                  0.962\n",
      "Method:                 Least Squares   F-statistic:                     1228.\n",
      "Date:                Tue, 17 Mar 2020   Prob (F-statistic):           7.48e-36\n",
      "Time:                        02:11:58   Log-Likelihood:                -42.272\n",
      "No. Observations:                  50   AIC:                             88.54\n",
      "Df Residuals:                      48   BIC:                             92.37\n",
      "Df Model:                           1                                         \n",
      "Covariance Type:            nonrobust                                         \n",
      "==============================================================================\n",
      "                 coef    std err          t      P>|t|      [0.025      0.975]\n",
      "------------------------------------------------------------------------------\n",
      "const          0.0374      0.151      0.248      0.805      -0.266       0.340\n",
      "x1             0.9968      0.028     35.047      0.000       0.940       1.054\n",
      "==============================================================================\n",
      "Omnibus:                        7.655   Durbin-Watson:                   1.935\n",
      "Prob(Omnibus):                  0.022   Jarque-Bera (JB):                2.501\n",
      "Skew:                          -0.055   Prob(JB):                        0.286\n",
      "Kurtosis:                       1.910   Cond. No.                         10.1\n",
      "==============================================================================\n",
      "\n",
      "Warnings:\n",
      "[1] Standard Errors assume that the covariance matrix of the errors is correctly specified.\n"
     ]
    }
   ],
   "source": [
    "import statsmodels.api as sm\n",
    "model = sm.OLS(y, sm.add_constant(x))\n",
    "result = model.fit()\n",
    "print(result.summary())"
   ]
  },
  {
   "cell_type": "code",
   "execution_count": 9,
   "metadata": {},
   "outputs": [
    {
     "data": {
      "text/plain": [
       "array([0.15067761, 0.02844328])"
      ]
     },
     "execution_count": 9,
     "metadata": {},
     "output_type": "execute_result"
    }
   ],
   "source": [
    "result.bse"
   ]
  },
  {
   "cell_type": "markdown",
   "metadata": {},
   "source": [
    "## 回帰係数を求める"
   ]
  },
  {
   "cell_type": "code",
   "execution_count": 10,
   "metadata": {},
   "outputs": [],
   "source": [
    "X = sm.add_constant(x)"
   ]
  },
  {
   "cell_type": "code",
   "execution_count": 11,
   "metadata": {},
   "outputs": [
    {
     "data": {
      "text/plain": [
       "(0.03739699521345166, 0.9968466069321293)"
      ]
     },
     "execution_count": 11,
     "metadata": {},
     "output_type": "execute_result"
    }
   ],
   "source": [
    "w = np.linalg.inv(X.transpose() @ X) @ X.transpose() @ y\n",
    "a = w[0]\n",
    "b = w[1]\n",
    "a, b"
   ]
  },
  {
   "cell_type": "markdown",
   "metadata": {},
   "source": [
    "## 標準誤差"
   ]
  },
  {
   "cell_type": "markdown",
   "metadata": {},
   "source": [
    "### 残差二乗和"
   ]
  },
  {
   "cell_type": "code",
   "execution_count": 12,
   "metadata": {},
   "outputs": [
    {
     "data": {
      "text/plain": [
       "0.330826307725182"
      ]
     },
     "execution_count": 12,
     "metadata": {},
     "output_type": "execute_result"
    }
   ],
   "source": [
    "s_2 = ((y - (a + b * x).reshape(50))**2).sum() / (50-2)\n",
    "s_2"
   ]
  },
  {
   "cell_type": "code",
   "execution_count": 13,
   "metadata": {},
   "outputs": [
    {
     "data": {
      "text/plain": [
       "0.330826307725182"
      ]
     },
     "execution_count": 13,
     "metadata": {},
     "output_type": "execute_result"
    }
   ],
   "source": [
    "k = X.shape[1]\n",
    "u_hat = y - X @ w\n",
    "s_2 = (u_hat.T @ u_hat) / (n-k)\n",
    "s_2"
   ]
  },
  {
   "cell_type": "markdown",
   "metadata": {},
   "source": [
    "### 標準誤差"
   ]
  },
  {
   "cell_type": "code",
   "execution_count": 14,
   "metadata": {},
   "outputs": [
    {
     "name": "stderr",
     "output_type": "stream",
     "text": [
      "C:\\Users\\ryota\\Anaconda3\\lib\\site-packages\\ipykernel_launcher.py:1: RuntimeWarning: invalid value encountered in sqrt\n",
      "  \"\"\"Entry point for launching an IPython kernel.\n"
     ]
    },
    {
     "data": {
      "text/plain": [
       "array([[0.15067761,        nan],\n",
       "       [       nan, 0.02844328]])"
      ]
     },
     "execution_count": 14,
     "metadata": {},
     "output_type": "execute_result"
    }
   ],
   "source": [
    "se = np.sqrt(s_2 * np.linalg.inv(X.T @ X))\n",
    "se"
   ]
  },
  {
   "cell_type": "code",
   "execution_count": 20,
   "metadata": {},
   "outputs": [
    {
     "data": {
      "text/plain": [
       "array([[ 0.06862738, -0.01090486],\n",
       "       [-0.01090486,  0.00244545]])"
      ]
     },
     "execution_count": 20,
     "metadata": {},
     "output_type": "execute_result"
    }
   ],
   "source": [
    "np.linalg.inv(X.T @ X)"
   ]
  },
  {
   "cell_type": "code",
   "execution_count": null,
   "metadata": {},
   "outputs": [],
   "source": []
  },
  {
   "cell_type": "markdown",
   "metadata": {},
   "source": [
    "## t値"
   ]
  },
  {
   "cell_type": "code",
   "execution_count": 15,
   "metadata": {},
   "outputs": [
    {
     "data": {
      "text/plain": [
       "0.24819211887568307"
      ]
     },
     "execution_count": 15,
     "metadata": {},
     "output_type": "execute_result"
    }
   ],
   "source": [
    "w[0] / se[0, 0]"
   ]
  },
  {
   "cell_type": "code",
   "execution_count": 16,
   "metadata": {},
   "outputs": [
    {
     "data": {
      "text/plain": [
       "35.04682206823721"
      ]
     },
     "execution_count": 16,
     "metadata": {},
     "output_type": "execute_result"
    }
   ],
   "source": [
    "w[1] / se[1, 1]"
   ]
  },
  {
   "cell_type": "markdown",
   "metadata": {},
   "source": [
    "### p値"
   ]
  },
  {
   "cell_type": "code",
   "execution_count": 37,
   "metadata": {},
   "outputs": [],
   "source": [
    "from scipy.stats import t\n",
    "rv = t(n-k)\n",
    "rv"
   ]
  },
  {
   "cell_type": "code",
   "execution_count": 55,
   "metadata": {},
   "outputs": [
    {
     "data": {
      "text/plain": [
       "0.8050445246810647"
      ]
     },
     "execution_count": 55,
     "metadata": {},
     "output_type": "execute_result"
    }
   ],
   "source": [
    "(1 - rv.cdf(0.24819211887568307)) * 2"
   ]
  },
  {
   "cell_type": "code",
   "execution_count": null,
   "metadata": {},
   "outputs": [],
   "source": []
  },
  {
   "cell_type": "code",
   "execution_count": null,
   "metadata": {},
   "outputs": [],
   "source": []
  },
  {
   "cell_type": "code",
   "execution_count": null,
   "metadata": {},
   "outputs": [],
   "source": []
  },
  {
   "cell_type": "code",
   "execution_count": null,
   "metadata": {},
   "outputs": [],
   "source": []
  },
  {
   "cell_type": "code",
   "execution_count": null,
   "metadata": {},
   "outputs": [],
   "source": []
  },
  {
   "cell_type": "code",
   "execution_count": null,
   "metadata": {},
   "outputs": [],
   "source": []
  },
  {
   "cell_type": "code",
   "execution_count": 1,
   "metadata": {},
   "outputs": [],
   "source": [
    "from bs4 import BeautifulSoup\n",
    "import requests\n",
    "\n",
    "def get_soup(url):\n",
    "    res = requests.get(url)\n",
    "    soup = BeautifulSoup(res.content, 'html.parser')\n",
    "    return soup"
   ]
  },
  {
   "cell_type": "code",
   "execution_count": 3,
   "metadata": {},
   "outputs": [],
   "source": [
    "from bs4 import BeautifulSoup\n",
    "import requests\n",
    "\n",
    "\n",
    "def get_from_jlyric(url):\n",
    "    soup = get_soup(url)\n",
    "    # url = 'http://j-lyric.net/artist/a05ab37/l04c7fc.html'\n",
    "    html = requests.get(url)\n",
    "    soup = BeautifulSoup(html.content, 'html.parser')\n",
    "\n",
    "    lyric_raw_text = soup.find(id='Lyric')\n",
    "    a = str(lyric_raw_text).replace('<br/>','\\n').replace('<p id=\"Lyric\">', '').replace('</p>', '')\n",
    "\n",
    "    # print(lyric_raw_text)\n",
    "    print(a)"
   ]
  },
  {
   "cell_type": "code",
   "execution_count": 4,
   "metadata": {},
   "outputs": [
    {
     "name": "stdout",
     "output_type": "stream",
     "text": [
      "どこまで来たんだろう\n",
      "これからどこまで行けばいいんだろう\n",
      "迷う時もある\n",
      "\n",
      "錆びれた街灯に浮かんだ\n",
      "猫背の僕を見たら君は笑うよな\n",
      "\n",
      "「昨日と違う僕をどこかで見て欲しい」\n",
      "夜空を見上げた\n",
      "\n",
      "この旅の答えはきっと\n",
      "「君だ。」って\n",
      "「君だ。」って\n",
      "そんな気がするから\n",
      "確かな地図が\n",
      "なくたって\n",
      "駆け出して\n",
      "時には躓いても…\n",
      "\n",
      "解けた靴紐を\n",
      "また、固く結んだ\n",
      "\n",
      "形ない夢だけが\n",
      "少しずつ崩れそうで恐くなる\n",
      "人いきれの街\n",
      "\n",
      "でも、果てしなく続くように思える\n",
      "この道の先に、ほら、君がいるから\n",
      "\n",
      "目が眩むような焦燥感も力に\n",
      "変えていけるんだろう\n",
      "\n",
      "例えどんなことが起きようと\n",
      "僕だって\n",
      "僕だって\n",
      "やれると思うんだ\n",
      "描いた地図が\n",
      "欠けたって\n",
      "褪せたって\n",
      "描き直せばいいさ\n",
      "昨日までの僕と　ここでもうサヨナラ\n",
      "\n",
      "どうしても\n",
      "どうしても\n",
      "伝えたいことがある\n",
      "呼吸を整えて\n",
      "何度も、何度でも言うよ\n",
      "\n",
      "この未来(とわ)の旅の答えはいつも\n",
      "君なんだ\n",
      "君なんだ\n",
      "どこかで見ていてね\n",
      "確かな地図が\n",
      "なくたって\n",
      "駆け出して\n",
      "まだ見ぬ世界へ…\n",
      "\n",
      "結んだ靴紐が\n",
      "君との約束\n",
      "\n"
     ]
    }
   ],
   "source": [
    "get_from_jlyric('http://j-lyric.net/artist/a05ab37/l0434c2.html')"
   ]
  },
  {
   "cell_type": "code",
   "execution_count": 50,
   "metadata": {},
   "outputs": [
    {
     "name": "stdout",
     "output_type": "stream",
     "text": [
      "<div id=\"kashi_area\" itemprop=\"text\">前を向きなよ　振り返ってちゃ　上手く歩けない<br>遠ざかる君に　手を振るのがやっとで<br>\n",
      "声に出したら　引き止めそうさ　心で呟く\n",
      "“僕は僕の夢へと　君は君の夢を”\n",
      "\n",
      "あたりまえの温もり　失くして　初めて気づく\n",
      "寂しさ　噛み締めて　歩みだす勇気　抱(いだ)いて\n",
      "\n",
      "溢れだす涙が　君を遮(さえぎ)るまえに\n",
      "せめて笑顔で“またいつか”\n",
      "傷つけ合っては　何度も許し合えたこと\n",
      "代わりなき僕らの証になるだろう\n",
      "\n",
      "“我侭だ”って貶(けな)されたって　願い続けてよ\n",
      "その声は届くから　君が君でいれば\n",
      "\n",
      "僕がもしも　夢に　敗れて　諦めたなら\n",
      "遠くで叱ってよ　あの時のようにね\n",
      "\n",
      "君の指差すその未来(さき)に　希望があるはずさ\n",
      "誰にも決められはしないよ\n",
      "一人で抱え込んで　生きる意味を問うときは\n",
      "そっと思い出して　あの日の僕らを\n",
      "\n",
      "“またね”って言葉の儚さ　叶わない約束\n",
      "いくつ交わしても慣れない\n",
      "なのに追憶の破片(かけら)を　敷き詰めたノートに\n",
      "君の居ないページは無い\n",
      "\n",
      "溢れだす涙　拭う頃　君はもう見えない\n",
      "想う言葉は“ありがとう”\n",
      "傷つけ合っては　何度も笑い合えたこと\n",
      "絆を胸に秘め　僕も歩き出す</br></br></div>\n"
     ]
    }
   ],
   "source": [
    "import re\n",
    "\n",
    "def get_from_utanet(url):\n",
    "    soup = get_soup(url)\n",
    "    raw_text = soup.find('div', id='kashi_area')\n",
    "    return str(raw_text).replace('\\u3000', '　').replace('<br/>', '\\n')\n",
    "\n",
    "print(get_from_utanet('https://www.uta-net.com/song/112293/'))"
   ]
  },
  {
   "cell_type": "code",
   "execution_count": null,
   "metadata": {},
   "outputs": [],
   "source": []
  },
  {
   "cell_type": "code",
   "execution_count": 5,
   "metadata": {},
   "outputs": [
    {
     "data": {
      "text/plain": [
       "<td class=\"noprint kasi_honbun\" style=\"padding-left:30px;\">\n",
       "君はまだ 信じているかい?<br/>失った 遠き夢の影<br/>俯いて 疲れていないかい?<br/>声もなく 理解もない日々<br/><br/>\"君のために生きていたい\"と<br/>心はまだ疼いてる<br/><br/>挫けるんじゃないと 煽る夜明け<br/>君のその胸に 秘めた祈りを<br/>暖めたいんだ 消えぬように<br/>この身は削れたっていい<br/>答えがあるなら それが愛なら<br/><br/>何(なん)のため ここにいるのか?<br/>誰のため 傷ついてくのか?<br/>輝きを 貰えた記憶<br/>引きずったまま 積もってく抜け殻<br/><br/>明日のために 泣きたいのなら<br/>涙は そのためにある<br/><br/>あと一息だけ 胸を焦がして<br/>悲しみのすべて 受け止めるから<br/>描いた色は 消え去っても<br/>答えを書けばいいさ<br/>終わりは無いんだと それが愛だと<br/><br/>冷えた指先も 涙の熱も<br/>生き抜いた軌跡(しるし)<br/>汚れ(けがれ)もない･･･<br/><br/>傷ついた羽根を癒す夜明け<br/>微かでも残る あの日の息吹<br/>君の手を取って 掻き集め<br/>答えに変えるだけさ<br/>終わりは無いんだと それが愛だと\n",
       "\n",
       "<!-- 歌詞 end -->\n",
       "</td>"
      ]
     },
     "execution_count": 5,
     "metadata": {},
     "output_type": "execute_result"
    }
   ],
   "source": [
    "url = 'https://www.utamap.com/showkasi.php?surl=k-121018-001'\n",
    "soup = get_soup(url)\n",
    "soup.find('td', class_='noprint kasi_honbun')"
   ]
  },
  {
   "cell_type": "code",
   "execution_count": null,
   "metadata": {},
   "outputs": [],
   "source": []
  }
 ],
 "metadata": {
  "kernelspec": {
   "display_name": "Python 3",
   "language": "python",
   "name": "python3"
  },
  "language_info": {
   "codemirror_mode": {
    "name": "ipython",
    "version": 3
   },
   "file_extension": ".py",
   "mimetype": "text/x-python",
   "name": "python",
   "nbconvert_exporter": "python",
   "pygments_lexer": "ipython3",
   "version": "3.7.3"
  }
 },
 "nbformat": 4,
 "nbformat_minor": 2
}
